{
 "cells": [
  {
   "cell_type": "code",
   "id": "initial_id",
   "metadata": {
    "collapsed": true,
    "ExecuteTime": {
     "end_time": "2024-06-11T07:13:48.657061Z",
     "start_time": "2024-06-11T07:13:45.791256Z"
    }
   },
   "source": [
    "from sklearn.datasets import fetch_openml\n",
    "import matplotlib.pyplot as plt\n",
    "import numpy as np\n",
    "import pandas as pd\n",
    "# 加载MNIST数据集\n",
    "mnist = fetch_openml('mnist_784', version=1,parser='auto',as_frame= False)\n",
    "X, y = mnist['data'], mnist['target']\n",
    "\n",
    "y = y.astype(np.int64)\n",
    "print(X.shape)\n",
    "print(y.shape)"
   ],
   "execution_count": 5,
   "outputs": []
  },
  {
   "metadata": {},
   "cell_type": "markdown",
   "source": "# 挑选数据集",
   "id": "590928456a379be6"
  },
  {
   "metadata": {
    "ExecuteTime": {
     "end_time": "2024-06-11T07:13:48.784201Z",
     "start_time": "2024-06-11T07:13:48.658060Z"
    }
   },
   "cell_type": "code",
   "source": [
    "# 初始化所需的数据结构\n",
    "X_train, y_train, X_test, y_test = [], [], [], []\n",
    "\n",
    "# 挑选训练集和测试集\n",
    "for digit in range(10):\n",
    "    # 获取当前数字的所有索引\n",
    "    indices = np.where(y == digit)[0]\n",
    "    # 打乱索引\n",
    "    np.random.shuffle(indices)\n",
    "    # 挑选前100个作为训练集，50个作为测试集\n",
    "    X_train.extend(X[indices[:1000]])\n",
    "    y_train.extend(y[indices[:1000]])\n",
    "    X_test.extend(X[indices[1000:1500]])\n",
    "    y_test.extend(y[indices[1000:1500]])\n",
    "\n",
    "X_train = np.array(X_train)\n",
    "y_train = np.array(y_train)\n",
    "X_test = np.array(X_test)\n",
    "y_test = np.array(y_test)"
   ],
   "id": "38ccc205a2182810",
   "execution_count": 6,
   "outputs": []
  },
  {
   "metadata": {
    "ExecuteTime": {
     "end_time": "2024-06-11T07:13:49.076807Z",
     "start_time": "2024-06-11T07:13:48.838985Z"
    }
   },
   "cell_type": "code",
   "source": [
    "#查看当前数据集类的数量情况\n",
    "y_train_df = pd.DataFrame(data = y_train, columns = ['class'])\n",
    "y_test_df = pd.DataFrame(data = y_test, columns = ['class'])\n",
    "y_train_df['class'].value_counts().plot(kind = 'bar', colormap = 'Paired')\n",
    "plt.xlabel('Class')\n",
    "plt.ylabel('Number of samples for each category')\n",
    "plt.title('Training set')\n",
    "plt.savefig('knn_svm1.png')\n",
    "plt.show()"
   ],
   "id": "bde97ae5dadc74b3",
   "execution_count": 7,
   "outputs": []
  },
  {
   "metadata": {
    "ExecuteTime": {
     "end_time": "2024-06-11T07:13:49.607219Z",
     "start_time": "2024-06-11T07:13:49.461559Z"
    }
   },
   "cell_type": "code",
   "source": [
    "y_test_df['class'].value_counts().plot(kind = 'bar', colormap = 'Paired')\n",
    "plt.xlabel('Class')\n",
    "plt.ylabel('Number of samples for each category')\n",
    "plt.title('Testing set')\n",
    "plt.savefig('knn_svm2.png')\n",
    "plt.show()"
   ],
   "id": "55cc65ef277ab4b1",
   "execution_count": 8,
   "outputs": []
  },
  {
   "metadata": {},
   "cell_type": "markdown",
   "source": "# PCA AND LDA",
   "id": "339e580d4dadfc95"
  },
  {
   "metadata": {
    "ExecuteTime": {
     "end_time": "2024-06-10T15:38:30.840482Z",
     "start_time": "2024-06-10T15:38:26.717174Z"
    }
   },
   "cell_type": "code",
   "source": [
    "from sklearn.decomposition import PCA\n",
    "# 定义降维后的维度数\n",
    "dimensions = [10, 20,30,40,50,60,70,80,90,100]\n",
    "\n",
    "# PCA降维\n",
    "for k in dimensions:\n",
    "    pca = PCA(n_components=k)\n",
    "    pca.fit(X_train)\n",
    "    X_train_pca = pca.transform(X_train)\n",
    "    X_test_pca = pca.transform(X_test)\n",
    "    print(f\"shape:{X_train_pca.shape} PCA with k={k}: Explained Variance Ratio: {np.sum(pca.explained_variance_ratio_)}\")\n",
    "\n",
    "# 显示PCA前10个成分图像\n",
    "pca_10 = PCA(n_components=10)\n",
    "pca_10.fit(X_train)\n",
    "X_train_pca_10 = pca_10.transform(X_train)\n",
    "components_pca = pca_10.components_\n",
    "print(X_train_pca_10.shape)\n",
    "\n",
    "plt.figure(figsize=(15, 5))\n",
    "for i in range(10):\n",
    "    plt.subplot(2, 5, i + 1)\n",
    "    plt.imshow(components_pca[i].reshape(28, 28), cmap='gray')\n",
    "    plt.title(f'PCA Component {i+1}')\n",
    "    plt.axis('off')\n",
    "plt.savefig(\"pca.png\")\n",
    "\n",
    "# 计算解释方差比例\n",
    "explained_variance_ratio = pca.explained_variance_ratio_\n",
    "\n",
    "# 绘制Explained Variance Ratio图\n",
    "plt.figure(figsize=(10, 6))\n",
    "plt.plot(np.cumsum(explained_variance_ratio), marker='o', linestyle='--', color='b')\n",
    "plt.xlabel('Number of Components')\n",
    "plt.ylabel('Cumulative Explained Variance Ratio')\n",
    "plt.title('PCA Explained Variance Ratio')\n",
    "plt.grid()\n",
    "plt.savefig(\"explained_variance_ratio.png\")\n",
    "plt.show()"
   ],
   "id": "a05200da92ee3c8",
   "execution_count": 72,
   "outputs": []
  },
  {
   "metadata": {
    "ExecuteTime": {
     "end_time": "2024-06-10T15:48:06.237033Z",
     "start_time": "2024-06-10T15:48:04.512235Z"
    }
   },
   "cell_type": "code",
   "source": [
    "from sklearn.discriminant_analysis import LinearDiscriminantAnalysis as LDA\n",
    "lda = LDA(n_components=9)  # LDA的最大维度是类别数-1\n",
    "X_train_lda = lda.fit_transform(X_train, y_train)\n",
    "X_test_lda = lda.transform(X_test)\n",
    "print(f\"LDA with k=9: Explained Variance Ratio: {lda.explained_variance_ratio_}\")\n",
    "\n",
    "# 显示LDA前10个成分图像\n",
    "components_lda = lda.scalings_.T\n",
    "\n",
    "plt.figure(figsize=(15, 5))\n",
    "for i in range(9):  # LDA只有9个成分\n",
    "    plt.subplot(2, 5, i + 1)\n",
    "    plt.imshow(components_lda[i].reshape(28, 28), cmap='gray')\n",
    "    plt.title(f'LDA Component {i+1}')\n",
    "    plt.axis('off')\n",
    "plt.savefig(\"lda.png\")\n",
    "plt.show()"
   ],
   "id": "6ea115cb3c0a6a28",
   "execution_count": 82,
   "outputs": []
  },
  {
   "metadata": {
    "ExecuteTime": {
     "end_time": "2024-06-10T14:06:46.125704Z",
     "start_time": "2024-06-10T14:06:46.094441Z"
    }
   },
   "cell_type": "code",
   "source": [
    "from sklearn.svm import SVC\n",
    "from sklearn.metrics import accuracy_score\n",
    "from sklearn.neighbors import KNeighborsClassifier\n",
    "\n",
    "\n",
    "# 定义PCA降维后的维度数\n",
    "pca_dimensions = [10, 20, 30, 40, 50, 60, 70, 80, 90, 100]\n",
    "lda_dimensions = [1, 2, 3, 4, 5, 6, 7, 8, 9]  # LDA的最大维度是类别数-1\n",
    "\n",
    "# 用于存储结果的字典\n",
    "results = {'PCA': {}, 'LDA': {}}"
   ],
   "id": "706b9b9ec6c06366",
   "execution_count": 10,
   "outputs": []
  },
  {
   "metadata": {
    "ExecuteTime": {
     "end_time": "2024-06-10T14:16:08.572480Z",
     "start_time": "2024-06-10T14:06:47.543726Z"
    }
   },
   "cell_type": "code",
   "source": [
    "from sklearn.model_selection import GridSearchCV\n",
    "from sklearn.neighbors import KNeighborsClassifier\n",
    "from sklearn.svm import SVC\n",
    "from sklearn.metrics import accuracy_score\n",
    "\n",
    "# 定义超参数网格\n",
    "knn_param_grid = {'n_neighbors': [1,2,3,4,5,6,7,8,9,10]}\n",
    "svm_param_grid = {'C':[1,2,3,4,5,6]}\n",
    "\n",
    "# PCA降维和分类\n",
    "for k in pca_dimensions:\n",
    "    pca = PCA(n_components=k)\n",
    "    X_train_pca = pca.fit_transform(X_train)\n",
    "    X_test_pca = pca.transform(X_test)\n",
    "    \n",
    "    # KNN分类\n",
    "    knn = KNeighborsClassifier()\n",
    "    knn_grid = GridSearchCV(knn, knn_param_grid, cv=5)\n",
    "    knn_grid.fit(X_train_pca, y_train)\n",
    "    best_knn = knn_grid.best_estimator_\n",
    "    y_pred_knn = best_knn.predict(X_test_pca)\n",
    "    acc_knn = accuracy_score(y_test, y_pred_knn)\n",
    "    \n",
    "    # SVM分类\n",
    "    svm = SVC()\n",
    "    svm_grid = GridSearchCV(svm, svm_param_grid, cv=5)\n",
    "    svm_grid.fit(X_train_pca, y_train)\n",
    "    best_svm = svm_grid.best_estimator_\n",
    "    y_pred_svm = best_svm.predict(X_test_pca)\n",
    "    acc_svm = accuracy_score(y_test, y_pred_svm)\n",
    "    \n",
    "    results['PCA'][k] = {'KNN': acc_knn, 'SVM': acc_svm, 'KNN_params': knn_grid.best_params_, 'SVM_params': svm_grid.best_params_}\n",
    "\n",
    "# LDA降维和分类\n",
    "for k in lda_dimensions:\n",
    "    lda = LDA(n_components=k)\n",
    "    X_train_lda = lda.fit_transform(X_train, y_train)\n",
    "    X_test_lda = lda.transform(X_test)\n",
    "    \n",
    "    # KNN分类\n",
    "    knn = KNeighborsClassifier()\n",
    "    knn_grid = GridSearchCV(knn, knn_param_grid, cv=5)\n",
    "    knn_grid.fit(X_train_lda, y_train)\n",
    "    best_knn = knn_grid.best_estimator_\n",
    "    y_pred_knn = best_knn.predict(X_test_lda)\n",
    "    acc_knn = accuracy_score(y_test, y_pred_knn)\n",
    "    \n",
    "    # SVM分类\n",
    "    svm = SVC()\n",
    "    svm_grid = GridSearchCV(svm, svm_param_grid, cv=5)\n",
    "    svm_grid.fit(X_train_lda, y_train)\n",
    "    best_svm = svm_grid.best_estimator_\n",
    "    y_pred_svm = best_svm.predict(X_test_lda)\n",
    "    acc_svm = accuracy_score(y_test, y_pred_svm)\n",
    "    \n",
    "    results['LDA'][k] = {'KNN': acc_knn, 'SVM': acc_svm, 'KNN_params': knn_grid.best_params_, 'SVM_params': svm_grid.best_params_}\n"
   ],
   "id": "8721d2ef719c5170",
   "execution_count": 11,
   "outputs": []
  },
  {
   "metadata": {
    "ExecuteTime": {
     "end_time": "2024-06-10T14:16:09.097562Z",
     "start_time": "2024-06-10T14:16:08.573823Z"
    }
   },
   "cell_type": "code",
   "source": [
    "import matplotlib.pyplot as plt\n",
    "\n",
    "# 获取分类精度\n",
    "pca_knn_accuracies = [results['PCA'][dim]['KNN'] for dim in pca_dimensions]\n",
    "pca_svm_accuracies = [results['PCA'][dim]['SVM'] for dim in pca_dimensions]\n",
    "lda_knn_accuracies = [results['LDA'][dim]['KNN'] for dim in lda_dimensions]\n",
    "lda_svm_accuracies = [results['LDA'][dim]['SVM'] for dim in lda_dimensions]\n",
    "\n",
    "# 绘制分类精度对比曲线\n",
    "plt.figure(figsize=(14, 7))\n",
    "\n",
    "# PCA + KNN and SVM\n",
    "plt.subplot(1, 2, 1)\n",
    "plt.plot(pca_dimensions, pca_knn_accuracies, marker='o', linestyle='-', color='b', label='PCA + KNN')\n",
    "plt.plot(pca_dimensions, pca_svm_accuracies, marker='o', linestyle='--', color='r', label='PCA + SVM')\n",
    "plt.xlabel('Number of PCA Components')\n",
    "plt.ylabel('Accuracy')\n",
    "plt.title('PCA: KNN and SVM Classification Accuracy')\n",
    "plt.legend()\n",
    "plt.grid()\n",
    "plt.savefig('pca_accuracy.png')\n",
    "# LDA + KNN and SVM\n",
    "plt.subplot(1, 2, 2)\n",
    "plt.plot(lda_dimensions, lda_knn_accuracies, marker='o', linestyle='-', color='b', label='LDA + KNN')\n",
    "plt.plot(lda_dimensions, lda_svm_accuracies, marker='o', linestyle='--', color='r', label='LDA + SVM')\n",
    "plt.xlabel('Number of LDA Components')\n",
    "plt.ylabel('Accuracy')\n",
    "plt.title('LDA: KNN and SVM Classification Accuracy')\n",
    "plt.legend()\n",
    "plt.grid()\n",
    "\n",
    "plt.tight_layout()\n",
    "plt.savefig('lda_accuracy.png')\n",
    "plt.show()\n"
   ],
   "id": "11898d248c657801",
   "execution_count": 12,
   "outputs": []
  },
  {
   "metadata": {
    "ExecuteTime": {
     "end_time": "2024-06-10T14:16:09.105823Z",
     "start_time": "2024-06-10T14:16:09.098561Z"
    }
   },
   "cell_type": "code",
   "source": [
    "# 选择最优保留维度\n",
    "best_pca_dim_knn = max(results['PCA'], key=lambda k: results['PCA'][k]['KNN'])\n",
    "best_pca_dim_svm = max(results['PCA'], key=lambda k: results['PCA'][k]['SVM'])\n",
    "best_lda_dim_knn = max(results['LDA'], key=lambda k: results['LDA'][k]['KNN'])\n",
    "best_lda_dim_svm = max(results['LDA'], key=lambda k: results['LDA'][k]['SVM'])\n",
    "\n",
    "print(\"\\nBest PCA dimension for KNN:\", best_pca_dim_knn)\n",
    "print(\"Best PCA dimension for SVM:\", best_pca_dim_svm)\n",
    "print(\"Best LDA dimension for KNN:\", best_lda_dim_knn)\n",
    "print(\"Best LDA dimension for SVM:\", best_lda_dim_svm)\n",
    "\n",
    "print(\"\\nBest KNN accuracy with PCA:\", results['PCA'][best_pca_dim_knn]['KNN'])\n",
    "print(\"Best SVM accuracy with PCA:\", results['PCA'][best_pca_dim_svm]['SVM'])\n",
    "print(\"Best KNN accuracy with LDA:\", results['LDA'][best_lda_dim_knn]['KNN'])\n",
    "print(\"Best SVM accuracy with LDA:\", results['LDA'][best_lda_dim_svm]['SVM'])\n",
    "\n",
    "print(\"\\nBest KNN parameters with PCA:\", results['PCA'][best_pca_dim_knn]['KNN_params'])\n",
    "print(\"Best SVM parameters with PCA:\", results['PCA'][best_pca_dim_svm]['SVM_params'])\n",
    "print(\"Best KNN parameters with LDA:\", results['LDA'][best_lda_dim_knn]['KNN_params'])\n",
    "print(\"Best SVM parameters with LDA:\", results['LDA'][best_lda_dim_svm]['SVM_params'])\n"
   ],
   "id": "aebc3f75f17105cf",
   "execution_count": 13,
   "outputs": []
  },
  {
   "metadata": {
    "ExecuteTime": {
     "end_time": "2024-06-10T16:09:21.321679Z",
     "start_time": "2024-06-10T16:08:54.994039Z"
    }
   },
   "cell_type": "code",
   "source": [
    "from sklearn.cluster import KMeans\n",
    "from scipy.stats import mode\n",
    "\n",
    "def calculate_clustering_accuracy(y_true, y_pred):\n",
    "    labels = np.zeros_like(y_pred)\n",
    "    for i in range(10):\n",
    "        mask = (y_pred == i)\n",
    "        labels[mask] = mode(y_true[mask])[0]\n",
    "    return accuracy_score(y_true, labels)\n",
    "\n",
    "results_kmeans = {'PCA': {}, 'LDA': {}}\n",
    "\n",
    "# PCA降维和KMeans聚类\n",
    "for k in pca_dimensions:\n",
    "    pca = PCA(n_components= k)\n",
    "    X_train_pca = pca.fit_transform(X_train)\n",
    "    \n",
    "    # KMeans聚类\n",
    "    kmeans = KMeans(n_clusters=10)\n",
    "    y_pred = kmeans.fit_predict(X_train_pca)\n",
    "    \n",
    "    # 计算聚类精度\n",
    "    accuracy = calculate_clustering_accuracy(y_train, y_pred)\n",
    "    results_kmeans['PCA'][k] = {'accuracy': accuracy, 'config': kmeans.get_params()}\n",
    "    \n",
    "# LDA降维和KMeans聚类\n",
    "for k in lda_dimensions:\n",
    "    pca = PCA(n_components=600)\n",
    "    X_train_pca = pca.fit_transform(X_train)\n",
    "    lda = LDA(n_components=k)\n",
    "    X_train_lda = lda.fit_transform(X_train_pca, y_train)\n",
    "    \n",
    "    # KMeans聚类\n",
    "    kmeans = KMeans(n_clusters=10)\n",
    "    y_pred = kmeans.fit_predict(X_train_lda)\n",
    "    \n",
    "    # 计算聚类精度\n",
    "    accuracy = calculate_clustering_accuracy(y_train, y_pred)\n",
    "    results_kmeans['LDA'][k] = {'accuracy': accuracy, 'config': kmeans.get_params()}\n",
    "    "
   ],
   "id": "f4fa9ec58b23b4cf",
   "execution_count": 92,
   "outputs": []
  },
  {
   "metadata": {
    "ExecuteTime": {
     "end_time": "2024-06-10T16:09:21.723557Z",
     "start_time": "2024-06-10T16:09:21.322677Z"
    }
   },
   "cell_type": "code",
   "source": [
    "# 获取聚类精度\n",
    "pca_kmeans_accuracies = [results_kmeans['PCA'][dim]['accuracy'] for dim in pca_dimensions]\n",
    "lda_kmeans_accuracies = [results_kmeans['LDA'][dim]['accuracy'] for dim in lda_dimensions]\n",
    "\n",
    "# 绘制聚类精度对比曲线\n",
    "plt.figure(figsize=(14, 7))\n",
    "\n",
    "# PCA + KMeans\n",
    "plt.subplot(1, 2, 1)\n",
    "plt.plot(pca_dimensions, pca_kmeans_accuracies, marker='o', linestyle='-', color='b', label='PCA + KMeans')\n",
    "plt.xlabel('Number of PCA Components')\n",
    "plt.ylabel('Clustering Accuracy')\n",
    "plt.title('PCA: KMeans Clustering Accuracy')\n",
    "plt.legend()\n",
    "plt.grid()\n",
    "\n",
    "# LDA + KMeans\n",
    "plt.subplot(1, 2, 2)\n",
    "plt.plot(lda_dimensions, lda_kmeans_accuracies, marker='o', linestyle='-', color='r', label='LDA + KMeans')\n",
    "plt.xlabel('Number of LDA Components')\n",
    "plt.ylabel('Clustering Accuracy')\n",
    "plt.title('LDA: KMeans Clustering Accuracy')\n",
    "plt.legend()\n",
    "plt.grid()\n",
    "\n",
    "plt.tight_layout()\n",
    "plt.savefig('kmeans.png')\n",
    "plt.show()\n"
   ],
   "id": "e3227b0f40e66cad",
   "execution_count": 93,
   "outputs": []
  },
  {
   "metadata": {
    "ExecuteTime": {
     "end_time": "2024-06-10T16:09:21.729194Z",
     "start_time": "2024-06-10T16:09:21.724557Z"
    }
   },
   "cell_type": "code",
   "source": [
    "# 选择最优保留维度\n",
    "best_pca_dim_kmeans = max(results_kmeans['PCA'], key=lambda k: results_kmeans['PCA'][k]['accuracy'])\n",
    "best_lda_dim_kmeans = max(results_kmeans['LDA'], key=lambda k: results_kmeans['LDA'][k]['accuracy'])\n",
    "\n",
    "print(\"\\nBest PCA dimension for KMeans:\", best_pca_dim_kmeans)\n",
    "print(\"Best LDA dimension for KMeans:\", best_lda_dim_kmeans)\n",
    "\n",
    "print(\"\\nBest KMeans accuracy with PCA:\", results_kmeans['PCA'][best_pca_dim_kmeans]['accuracy'])\n",
    "print(\"Best KMeans accuracy with LDA:\", results_kmeans['LDA'][best_lda_dim_kmeans]['accuracy'])\n",
    "\n",
    "print(\"\\nBest KMeans configuration with PCA:\", results_kmeans['PCA'][best_pca_dim_kmeans]['config'])\n",
    "print(\"Best KMeans configuration with LDA:\", results_kmeans['LDA'][best_lda_dim_kmeans]['config'])\n"
   ],
   "id": "3dbc3c911c53acd4",
   "execution_count": 94,
   "outputs": []
  },
  {
   "metadata": {
    "ExecuteTime": {
     "end_time": "2024-06-10T14:28:15.632912Z",
     "start_time": "2024-06-10T14:28:15.630874Z"
    }
   },
   "cell_type": "code",
   "source": "",
   "id": "74e64af87f817b10",
   "execution_count": 25,
   "outputs": []
  },
  {
   "metadata": {
    "ExecuteTime": {
     "end_time": "2024-06-10T16:11:18.780029Z",
     "start_time": "2024-06-10T16:11:17.417994Z"
    }
   },
   "cell_type": "code",
   "source": [
    "import numpy as np\n",
    "import plotly.graph_objs as go\n",
    "from sklearn.datasets import fetch_openml\n",
    "from sklearn.cluster import KMeans\n",
    "from sklearn.discriminant_analysis import LinearDiscriminantAnalysis as LDA\n",
    "\n",
    "# 加载MNIST数据集\n",
    "X, y = X_train,y_train\n",
    "\n",
    "# 使用LDA将数据投射到3维空间\n",
    "lda = LDA(n_components=3)\n",
    "X_lda = lda.fit_transform(X, y)\n",
    "\n",
    "# 执行KMeans聚类\n",
    "kmeans = KMeans(n_clusters=10, random_state=42)\n",
    "kmeans.fit(X_lda)\n",
    "\n",
    "# 获取聚类结果\n",
    "cluster_labels = kmeans.labels_\n",
    "\n",
    "# 绘制聚类结果\n",
    "data = []\n",
    "for i in range(10):\n",
    "    trace = go.Scatter3d(\n",
    "        x=X_lda[cluster_labels == i, 0],\n",
    "        y=X_lda[cluster_labels == i, 1],\n",
    "        z=X_lda[cluster_labels == i, 2],\n",
    "        mode='markers',\n",
    "        marker=dict(\n",
    "            size=5,\n",
    "            line=dict(\n",
    "                color='rgba(217, 217, 217, 0.14)',\n",
    "                width=0.5\n",
    "            ),\n",
    "            opacity=0.8\n",
    "        ),\n",
    "        name=f'Cluster {i}'\n",
    "    )\n",
    "    data.append(trace)\n",
    "\n",
    "layout = go.Layout(\n",
    "    title='KMeans Clustering of MNIST Data (LDA Projection)',\n",
    "    scene=dict(\n",
    "        xaxis=dict(title='LDA Component 1'),\n",
    "        yaxis=dict(title='LDA Component 2'),\n",
    "        zaxis=dict(title='LDA Component 3')\n",
    "    )\n",
    ")\n",
    "\n",
    "fig = go.Figure(data=data, layout=layout)\n",
    "fig.show()\n"
   ],
   "id": "1945bdb333d943b7",
   "execution_count": 95,
   "outputs": []
  },
  {
   "metadata": {
    "ExecuteTime": {
     "end_time": "2024-06-10T16:11:20.854784Z",
     "start_time": "2024-06-10T16:11:18.781564Z"
    }
   },
   "cell_type": "code",
   "source": [
    "X, y =  X_train,y_train\n",
    "\n",
    "# 使用LDA将数据投射到2维空间\n",
    "lda = LDA(n_components=2)\n",
    "X_lda = lda.fit_transform(X, y)\n",
    "\n",
    "# 执行KMeans聚类\n",
    "kmeans = KMeans(n_clusters=10)\n",
    "kmeans.fit(X_lda)\n",
    "\n",
    "# 获取聚类结果\n",
    "cluster_labels = kmeans.labels_\n",
    "\n",
    "# 绘制聚类结果\n",
    "plt.figure(figsize=(10, 8))\n",
    "for i in range(10):\n",
    "    plt.scatter(X_lda[cluster_labels == i, 0], X_lda[cluster_labels == i, 1], label=f'Cluster {i}', s=10)\n",
    "plt.title('KMeans Clustering of MNIST Data (LDA Projection)')\n",
    "plt.xlabel('LDA Component 1')\n",
    "plt.ylabel('LDA Component 2')\n",
    "plt.legend()\n",
    "plt.grid(True)\n",
    "plt.savefig('k9.png')\n",
    "plt.show()\n"
   ],
   "id": "b251d97339474351",
   "execution_count": 96,
   "outputs": []
  },
  {
   "metadata": {
    "ExecuteTime": {
     "end_time": "2024-06-10T14:54:38.915871Z",
     "start_time": "2024-06-10T14:54:12.992627Z"
    }
   },
   "cell_type": "code",
   "source": [
    "\n",
    "# 加载MNIST数据集\n",
    "mnist = fetch_openml('mnist_784', version=1)\n",
    "X, y = mnist['data'], mnist['target'].astype(np.int)\n",
    "\n",
    "# 使用PCA将数据投射到2维空间\n",
    "pca = PCA(n_components=80)\n",
    "X_pca = pca.fit_transform(X)\n",
    "\n",
    "# 执行KMeans聚类\n",
    "kmeans = KMeans(n_clusters=10, random_state=42)\n",
    "kmeans.fit(X_pca)\n",
    "\n",
    "# 获取聚类结果\n",
    "cluster_labels = kmeans.labels_\n",
    "\n",
    "# 绘制聚类结果\n",
    "plt.figure(figsize=(10, 8))\n",
    "for i in range(10):\n",
    "    plt.scatter(X_pca[cluster_labels == i, 0], X_pca[cluster_labels == i, 1], label=f'Cluster {i}', s=10)\n",
    "plt.title('KMeans Clustering of MNIST Data (PCA Projection)')\n",
    "plt.xlabel('PCA Component 1')\n",
    "plt.ylabel('PCA Component 2')\n",
    "plt.legend()\n",
    "plt.grid(True)\n",
    "plt.show()\n"
   ],
   "id": "70c8352d8df40987",
   "execution_count": 65,
   "outputs": []
  },
  {
   "metadata": {
    "ExecuteTime": {
     "end_time": "2024-06-11T07:24:15.492721Z",
     "start_time": "2024-06-11T07:24:15.490608Z"
    }
   },
   "cell_type": "code",
   "source": "",
   "id": "842a5f7a7b6f84f5",
   "execution_count": 12,
   "outputs": []
  },
  {
   "metadata": {
    "ExecuteTime": {
     "end_time": "2024-06-11T07:24:15.616934Z",
     "start_time": "2024-06-11T07:24:15.614997Z"
    }
   },
   "cell_type": "code",
   "source": "",
   "id": "161b582d10c9f3ab",
   "execution_count": 12,
   "outputs": []
  },
  {
   "metadata": {
    "ExecuteTime": {
     "end_time": "2024-06-11T07:24:16.027642Z",
     "start_time": "2024-06-11T07:24:16.025400Z"
    }
   },
   "cell_type": "code",
   "source": "",
   "id": "4eb7057b130bb484",
   "execution_count": 12,
   "outputs": []
  },
  {
   "metadata": {
    "ExecuteTime": {
     "end_time": "2024-06-11T07:24:16.139671Z",
     "start_time": "2024-06-11T07:24:16.136839Z"
    }
   },
   "cell_type": "code",
   "source": "",
   "id": "adc49925a15523b4",
   "execution_count": 12,
   "outputs": []
  },
  {
   "metadata": {
    "ExecuteTime": {
     "end_time": "2024-06-11T07:24:16.150526Z",
     "start_time": "2024-06-11T07:24:16.148636Z"
    }
   },
   "cell_type": "code",
   "source": "",
   "id": "cb7e42dc912e53b3",
   "execution_count": 12,
   "outputs": []
  },
  {
   "metadata": {},
   "cell_type": "code",
   "execution_count": null,
   "source": "",
   "id": "4b48cd0b10ea246",
   "outputs": []
  }
 ],
 "metadata": {
  "kernelspec": {
   "display_name": "Python 3",
   "language": "python",
   "name": "python3"
  },
  "language_info": {
   "codemirror_mode": {
    "name": "ipython",
    "version": 2
   },
   "file_extension": ".py",
   "mimetype": "text/x-python",
   "name": "python",
   "nbconvert_exporter": "python",
   "pygments_lexer": "ipython2",
   "version": "2.7.6"
  }
 },
 "nbformat": 4,
 "nbformat_minor": 5
}
