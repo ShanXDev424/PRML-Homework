{
 "cells": [
  {
   "cell_type": "code",
   "id": "initial_id",
   "metadata": {
    "collapsed": true,
    "ExecuteTime": {
     "end_time": "2024-06-07T10:07:03.235457Z",
     "start_time": "2024-06-07T10:06:59.145463Z"
    }
   },
   "source": [
    "from sklearn.datasets import fetch_openml\n",
    "import matplotlib.pyplot as plt\n",
    "import numpy as np\n",
    "import pandas as pd\n",
    "# 加载MNIST数据集\n",
    "mnist = fetch_openml('mnist_784', version=1,parser='auto',as_frame= False)\n",
    "X, y = mnist['data'], mnist['target']\n",
    "\n",
    "y = y.astype(np.int64)\n",
    "print(X.shape)\n",
    "print(y.shape)"
   ],
   "execution_count": 1,
   "outputs": []
  },
  {
   "metadata": {
    "ExecuteTime": {
     "end_time": "2024-06-07T10:13:55.383004Z",
     "start_time": "2024-06-07T10:13:55.355901Z"
    }
   },
   "cell_type": "code",
   "source": [
    "# 初始化所需的数据结构\n",
    "X_train, y_train= [], []\n",
    "\n",
    "# 挑选训练集和测试集\n",
    "for digit in range(10):\n",
    "    # 获取当前数字的所有索引\n",
    "    indices = np.where(y == digit)[0]\n",
    "    # 打乱索引\n",
    "    np.random.shuffle(indices)\n",
    "    # 挑选前100个作为训练集，50个作为测试集\n",
    "    X_train.extend(X[indices[:150]])\n",
    "    y_train.extend(y[indices[:150]])\n",
    "\n",
    "X_train = np.array(X_train)\n",
    "y_train = np.array(y_train)"
   ],
   "id": "4ca7ef7313f3bf11",
   "execution_count": 6,
   "outputs": []
  },
  {
   "metadata": {
    "ExecuteTime": {
     "end_time": "2024-06-07T10:13:56.775490Z",
     "start_time": "2024-06-07T10:13:56.675272Z"
    }
   },
   "cell_type": "code",
   "source": [
    "#查看当前数据集类的数量情况\n",
    "y_train_df = pd.DataFrame(data = y_train, columns = ['class'])\n",
    "y_train_df['class'].value_counts().plot(kind = 'bar', colormap = 'Paired')\n",
    "plt.xlabel('Class')\n",
    "plt.ylabel('Number of samples for each category')\n",
    "plt.title('Training set')\n",
    "plt.show()"
   ],
   "id": "c05e0ce8da4e3e30",
   "execution_count": 7,
   "outputs": []
  },
  {
   "metadata": {
    "ExecuteTime": {
     "end_time": "2024-06-07T10:15:01.574500Z",
     "start_time": "2024-06-07T10:15:01.569158Z"
    }
   },
   "cell_type": "code",
   "source": "",
   "id": "c705d9a0c530cbf2",
   "execution_count": 8,
   "outputs": []
  },
  {
   "metadata": {
    "ExecuteTime": {
     "end_time": "2024-06-07T10:18:31.946842Z",
     "start_time": "2024-06-07T10:18:31.605773Z"
    }
   },
   "cell_type": "code",
   "source": "",
   "id": "b461b74469c00312",
   "execution_count": 15,
   "outputs": []
  },
  {
   "metadata": {
    "ExecuteTime": {
     "end_time": "2024-06-07T10:15:24.204686Z",
     "start_time": "2024-06-07T10:15:23.989854Z"
    }
   },
   "cell_type": "code",
   "source": "",
   "id": "438df6fb7dcb8d7c",
   "execution_count": 11,
   "outputs": []
  },
  {
   "metadata": {},
   "cell_type": "code",
   "execution_count": null,
   "source": "",
   "id": "4c09756792ea15d6",
   "outputs": []
  }
 ],
 "metadata": {
  "kernelspec": {
   "display_name": "Python 3",
   "language": "python",
   "name": "python3"
  },
  "language_info": {
   "codemirror_mode": {
    "name": "ipython",
    "version": 2
   },
   "file_extension": ".py",
   "mimetype": "text/x-python",
   "name": "python",
   "nbconvert_exporter": "python",
   "pygments_lexer": "ipython2",
   "version": "2.7.6"
  }
 },
 "nbformat": 4,
 "nbformat_minor": 5
}
