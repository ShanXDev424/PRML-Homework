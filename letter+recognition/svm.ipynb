{
 "cells": [
  {
   "cell_type": "markdown",
   "source": [
    "# Letter Recognition Using SVM"
   ],
   "metadata": {
    "collapsed": false
   },
   "id": "2b4049e631fe31f2"
  },
  {
   "cell_type": "markdown",
   "source": [
    "## Data Understanding"
   ],
   "metadata": {
    "collapsed": false
   },
   "id": "ef4b36af45de90f2"
  },
  {
   "cell_type": "code",
   "source": [
    "# libraries\n",
    "import pandas as pd\n",
    "import numpy as np\n",
    "from sklearn.svm import SVC\n",
    "from sklearn.model_selection import train_test_split\n",
    "from sklearn import metrics\n",
    "from sklearn.metrics import confusion_matrix\n",
    "from sklearn.model_selection import KFold\n",
    "from sklearn.model_selection import cross_val_score\n",
    "from sklearn.model_selection import GridSearchCV\n",
    "import matplotlib.pyplot as plt\n",
    "import seaborn as sns\n",
    "from sklearn.preprocessing import scale\n",
    "names = ['letter','x-box','y-box','width','high','onpix','x-bar','y-bar','x2bar',\n",
    "         'y2bar','xybar','x2ybr','xy2br','x-ege','xegvy','y-ege','yegvx']\n",
    "\n",
    "# dataset\n",
    "dataset = pd.read_csv(\"letter-recognition.data\",names = names)"
   ],
   "metadata": {
    "collapsed": false,
    "ExecuteTime": {
     "end_time": "2024-06-06T07:42:55.213906Z",
     "start_time": "2024-06-06T07:42:54.844006Z"
    }
   },
   "id": "ca016a01913522a7",
   "execution_count": 2,
   "outputs": []
  },
  {
   "cell_type": "code",
   "source": [
    "# dimensions\n",
    "print(\"Dimensions: \", dataset.shape, \"\\n\")\n",
    "\n",
    "# see the data types\n",
    "print(dataset.info())\n",
    "\n",
    "# head\n",
    "dataset.head()"
   ],
   "metadata": {
    "collapsed": false,
    "ExecuteTime": {
     "end_time": "2024-06-06T07:42:55.238156Z",
     "start_time": "2024-06-06T07:42:55.214911Z"
    }
   },
   "id": "ee28f9a434cfb1d1",
   "execution_count": 3,
   "outputs": []
  },
  {
   "cell_type": "code",
   "source": [
    "print(dataset.columns)"
   ],
   "metadata": {
    "collapsed": false,
    "ExecuteTime": {
     "end_time": "2024-06-06T07:42:55.534443Z",
     "start_time": "2024-06-06T07:42:55.529990Z"
    }
   },
   "id": "c4308f4d5844a464",
   "execution_count": 4,
   "outputs": []
  },
  {
   "cell_type": "code",
   "source": [
    "order = list(np.sort(dataset['letter'].unique()))\n",
    "print(order)"
   ],
   "metadata": {
    "collapsed": false,
    "ExecuteTime": {
     "end_time": "2024-06-06T07:42:55.896837Z",
     "start_time": "2024-06-06T07:42:55.892952Z"
    }
   },
   "id": "acb713faed783f69",
   "execution_count": 5,
   "outputs": []
  },
  {
   "cell_type": "markdown",
   "source": [
    "# Data Preparation"
   ],
   "metadata": {
    "collapsed": false
   },
   "id": "98425aef4bcfb2ee"
  },
  {
   "cell_type": "code",
   "source": [
    "# average feature values\n",
    "round(dataset.drop('letter', axis=1).mean(), 2)"
   ],
   "metadata": {
    "collapsed": false,
    "ExecuteTime": {
     "end_time": "2024-06-06T07:42:56.766502Z",
     "start_time": "2024-06-06T07:42:56.758205Z"
    }
   },
   "id": "78427e962e99a71d",
   "execution_count": 6,
   "outputs": []
  },
  {
   "cell_type": "markdown",
   "source": [
    "In this case, the average values do not vary a lot (e.g. having a diff of an order of magnitude). Nevertheless, it is better to rescale them."
   ],
   "metadata": {
    "collapsed": false
   },
   "id": "a9107c361d729f22"
  },
  {
   "cell_type": "code",
   "source": [
    "# splitting into X and y\n",
    "X = dataset.drop(\"letter\", axis = 1)\n",
    "y = dataset['letter']"
   ],
   "metadata": {
    "collapsed": false,
    "ExecuteTime": {
     "end_time": "2024-06-06T08:01:45.346104Z",
     "start_time": "2024-06-06T08:01:45.341014Z"
    }
   },
   "id": "4143675a4eb5660",
   "execution_count": 7,
   "outputs": []
  },
  {
   "cell_type": "code",
   "source": [
    "# scaling the features\n",
    "X_scaled = scale(X)\n",
    "\n",
    "# train test split\n",
    "X_train, X_test, y_train, y_test = train_test_split(X_scaled, y, test_size = 0.2, random_state = 101)"
   ],
   "metadata": {
    "collapsed": false,
    "ExecuteTime": {
     "end_time": "2024-06-06T08:24:52.459519Z",
     "start_time": "2024-06-06T08:24:52.445481Z"
    }
   },
   "id": "d82974bad4da3ddf",
   "execution_count": 25,
   "outputs": []
  },
  {
   "cell_type": "markdown",
   "source": [
    "# Model Building"
   ],
   "metadata": {
    "collapsed": false
   },
   "id": "4b7045e4c5da6fb0"
  },
  {
   "cell_type": "code",
   "source": [
    "# linear model\n",
    "model_linear = SVC(kernel='linear')\n",
    "model_linear.fit(X_train, y_train)\n",
    "# predict\n",
    "y_pred = model_linear.predict(X_test)\n",
    "# accuracy\n",
    "print(\"accuracy:\", metrics.accuracy_score(y_true=y_test, y_pred=y_pred), \"\\n\")"
   ],
   "metadata": {
    "collapsed": false,
    "ExecuteTime": {
     "end_time": "2024-06-06T08:24:56.430881Z",
     "start_time": "2024-06-06T08:24:53.913296Z"
    }
   },
   "id": "99b79cc11da8593a",
   "execution_count": 26,
   "outputs": []
  },
  {
   "cell_type": "markdown",
   "source": [
    "The linear model gives 85% accuracy. Let's look at a sufficiently non-linear model with randomly chosen hyperparameters."
   ],
   "metadata": {
    "collapsed": false
   },
   "id": "c759cc7b28d56413"
  },
  {
   "cell_type": "code",
   "source": [
    "# non-linear model,如果特征的数量小，样本的数量正常，则选用SVM+高斯核函数；\n",
    "# using rbf kernel, C=1, default value of gamma\n",
    "# model\n",
    "non_linear_model = SVC(kernel='rbf')\n",
    "# fit\n",
    "non_linear_model.fit(X_train, y_train)\n",
    "# predict\n",
    "y_pred = non_linear_model.predict(X_test)\n",
    "# accuracy\n",
    "print(\"accuracy:\", metrics.accuracy_score(y_true=y_test, y_pred=y_pred),\"\\n\")"
   ],
   "metadata": {
    "collapsed": false,
    "ExecuteTime": {
     "end_time": "2024-06-06T08:25:00.536371Z",
     "start_time": "2024-06-06T08:24:56.431886Z"
    }
   },
   "id": "dfb6f4892421c62a",
   "execution_count": 27,
   "outputs": []
  },
  {
   "cell_type": "markdown",
   "source": [
    "# Grid Search: Hyperparameter Tuning"
   ],
   "metadata": {
    "collapsed": false
   },
   "id": "9451a3f9265d343a"
  },
  {
   "cell_type": "code",
   "source": [
    "# creating a KFold object with 5 splits \n",
    "folds = KFold(n_splits = 5, shuffle = True, random_state = 101)\n",
    "\n",
    "# specify range of hyperparameters\n",
    "# Set the parameters by cross-validation\n",
    "hyper_params = [ {'gamma': [1e-2, 1e-3, 1e-4],'C': [1, 10, 100, 1000]}]\n",
    "\n",
    "# specify model\n",
    "model = SVC(kernel=\"rbf\")\n",
    "\n",
    "# set up GridSearchCV()\n",
    "model_cv = GridSearchCV(estimator = model, \n",
    "                        param_grid = hyper_params, \n",
    "                        scoring= 'accuracy', \n",
    "                        cv = folds, \n",
    "                        verbose = 1,\n",
    "                        return_train_score=True)      \n",
    "\n",
    "# fit the model\n",
    "model_cv.fit(X_train, y_train)         "
   ],
   "metadata": {
    "collapsed": false,
    "ExecuteTime": {
     "end_time": "2024-06-06T08:40:04.477043Z",
     "start_time": "2024-06-06T08:28:33.917924Z"
    }
   },
   "id": "313847db05bf2463",
   "execution_count": 28,
   "outputs": []
  },
  {
   "cell_type": "code",
   "source": [
    "# cv results\n",
    "cv_results = pd.DataFrame(model_cv.cv_results_)\n",
    "cv_results"
   ],
   "metadata": {
    "collapsed": false,
    "ExecuteTime": {
     "end_time": "2024-06-06T08:40:04.502869Z",
     "start_time": "2024-06-06T08:40:04.477547Z"
    }
   },
   "id": "3152dfc13f0648a0",
   "execution_count": 29,
   "outputs": []
  },
  {
   "cell_type": "code",
   "source": [
    "# converting C to numeric type for plotting on x-axis\n",
    "cv_results['param_C'] = cv_results['param_C'].astype('int')\n",
    "\n",
    "# # plotting\n",
    "plt.figure(figsize=(16,6))\n",
    "\n",
    "# subplot 1/3\n",
    "plt.subplot(131)\n",
    "gamma_01 = cv_results[cv_results['param_gamma']==0.01]\n",
    "\n",
    "plt.plot(gamma_01[\"param_C\"], gamma_01[\"mean_test_score\"])\n",
    "plt.plot(gamma_01[\"param_C\"], gamma_01[\"mean_train_score\"])\n",
    "plt.xlabel('C')\n",
    "plt.ylabel('Accuracy')\n",
    "plt.title(\"Gamma=0.01\")\n",
    "plt.ylim([0.60, 1])\n",
    "plt.legend(['test accuracy', 'train accuracy'], loc='upper left')\n",
    "plt.xscale('log')\n",
    "\n",
    "# subplot 2/3\n",
    "plt.subplot(132)\n",
    "gamma_001 = cv_results[cv_results['param_gamma']==0.001]\n",
    "\n",
    "plt.plot(gamma_001[\"param_C\"], gamma_001[\"mean_test_score\"])\n",
    "plt.plot(gamma_001[\"param_C\"], gamma_001[\"mean_train_score\"])\n",
    "plt.xlabel('C')\n",
    "plt.ylabel('Accuracy')\n",
    "plt.title(\"Gamma=0.001\")\n",
    "plt.ylim([0.60, 1])\n",
    "plt.legend(['test accuracy', 'train accuracy'], loc='upper left')\n",
    "plt.xscale('log')\n",
    "\n",
    "\n",
    "# subplot 3/3\n",
    "plt.subplot(133)\n",
    "gamma_0001 = cv_results[cv_results['param_gamma']==0.0001]\n",
    "\n",
    "plt.plot(gamma_0001[\"param_C\"], gamma_0001[\"mean_test_score\"])\n",
    "plt.plot(gamma_0001[\"param_C\"], gamma_0001[\"mean_train_score\"])\n",
    "plt.xlabel('C')\n",
    "plt.ylabel('Accuracy')\n",
    "plt.title(\"Gamma=0.0001\")\n",
    "plt.ylim([0.60, 1])\n",
    "plt.legend(['test accuracy', 'train accuracy'], loc='upper left')\n",
    "plt.xscale('log')\n",
    "plt.savefig(\"out.png\")"
   ],
   "metadata": {
    "collapsed": false,
    "ExecuteTime": {
     "end_time": "2024-06-06T09:17:55.976163Z",
     "start_time": "2024-06-06T09:17:54.701774Z"
    }
   },
   "id": "d400618cf9d3008f",
   "execution_count": 35,
   "outputs": []
  },
  {
   "cell_type": "code",
   "source": [
    "# printing the optimal accuracy score and hyperparameters\n",
    "best_score = model_cv.best_score_\n",
    "best_hyperparams = model_cv.best_params_\n",
    "\n",
    "print(\"The best test score is {0} corresponding to hyperparameters {1}\".format(best_score, best_hyperparams))"
   ],
   "metadata": {
    "collapsed": false,
    "ExecuteTime": {
     "end_time": "2024-06-06T08:40:44.889251Z",
     "start_time": "2024-06-06T08:40:44.885423Z"
    }
   },
   "id": "5884f0549df9db1d",
   "execution_count": 31,
   "outputs": []
  },
  {
   "cell_type": "markdown",
   "source": [
    "# Building and Evaluating the Final Model"
   ],
   "metadata": {
    "collapsed": false
   },
   "id": "2323fa0dfe4fa764"
  },
  {
   "cell_type": "code",
   "source": [
    "# model with optimal hyperparameters\n",
    "\n",
    "# model\n",
    "model = SVC(C=1000, gamma=0.01, kernel=\"rbf\")\n",
    "\n",
    "model.fit(X_train, y_train)\n",
    "y_pred = model.predict(X_test)\n",
    "\n",
    "# metrics\n",
    "print(\"accuracy\", metrics.accuracy_score(y_test, y_pred), \"\\n\")"
   ],
   "metadata": {
    "collapsed": false,
    "ExecuteTime": {
     "end_time": "2024-06-06T08:50:15.654616Z",
     "start_time": "2024-06-06T08:50:12.454670Z"
    }
   },
   "id": "280532ff1cda6b33",
   "execution_count": 33,
   "outputs": []
  }
 ],
 "metadata": {
  "kernelspec": {
   "display_name": "Python 3",
   "language": "python",
   "name": "python3"
  },
  "language_info": {
   "codemirror_mode": {
    "name": "ipython",
    "version": 2
   },
   "file_extension": ".py",
   "mimetype": "text/x-python",
   "name": "python",
   "nbconvert_exporter": "python",
   "pygments_lexer": "ipython2",
   "version": "2.7.6"
  }
 },
 "nbformat": 4,
 "nbformat_minor": 5
}
