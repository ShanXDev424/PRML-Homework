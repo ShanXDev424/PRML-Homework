{
 "cells": [
  {
   "cell_type": "code",
   "execution_count": 2,
   "id": "initial_id",
   "metadata": {
    "collapsed": true,
    "ExecuteTime": {
     "end_time": "2024-06-06T10:27:29.150226Z",
     "start_time": "2024-06-06T10:27:28.414297Z"
    }
   },
   "source": [
    "# libraries\n",
    "import pandas as pd\n",
    "\n",
    "names = ['letter','x-box','y-box','width','high','onpix','x-bar','y-bar','x2bar',\n",
    "         'y2bar','xybar','x2ybr','xy2br','x-ege','xegvy','y-ege','yegvx']\n",
    "\n",
    "# dataset\n",
    "dataset = pd.read_csv(\"letter-recognition.data\",names = names)"
   ],
   "outputs": []
  },
  {
   "cell_type": "code",
   "source": [
    "# splitting into X and y\n",
    "X = dataset.drop(\"letter\", axis = 1)\n",
    "y = dataset['letter']"
   ],
   "metadata": {
    "collapsed": false,
    "ExecuteTime": {
     "end_time": "2024-06-06T10:27:29.811768Z",
     "start_time": "2024-06-06T10:27:29.806970Z"
    }
   },
   "id": "61a58e022b4dfdbd",
   "execution_count": 3,
   "outputs": []
  },
  {
   "cell_type": "code",
   "source": [
    "from sklearn.model_selection import train_test_split\n",
    "from sklearn.preprocessing import scale\n",
    "\n",
    "# scaling the features\n",
    "#X_scaled = scale(X)\n",
    "\n",
    "# train test split\n",
    "X_train, X_test, y_train, y_test = train_test_split(X, y, test_size = 0.2, random_state = 10)"
   ],
   "metadata": {
    "collapsed": false,
    "ExecuteTime": {
     "end_time": "2024-06-06T11:10:31.260131Z",
     "start_time": "2024-06-06T11:10:31.253643Z"
    }
   },
   "id": "6722e6f3eaf29d08",
   "execution_count": 77,
   "outputs": []
  },
  {
   "cell_type": "code",
   "source": [
    "from sklearn import metrics\n",
    "# model\n",
    "from sklearn.tree import DecisionTreeClassifier\n",
    "\n",
    "model = DecisionTreeClassifier()\n",
    "model.fit(X_train, y_train)\n",
    "y_pred = model.predict(X_test)\n",
    "\n",
    "# metrics\n",
    "print(\"accuracy\", metrics.accuracy_score(y_test, y_pred), \"\\n\")"
   ],
   "metadata": {
    "collapsed": false,
    "ExecuteTime": {
     "end_time": "2024-06-06T11:11:11.720050Z",
     "start_time": "2024-06-06T11:11:11.637214Z"
    }
   },
   "id": "7ca51ed0ac0269cc",
   "execution_count": 79,
   "outputs": []
  },
  {
   "cell_type": "code",
   "source": [
    "from sklearn.model_selection import GridSearchCV, KFold\n",
    "\n",
    "# 设置参数矩阵\n",
    "params = {'max_depth': range(2,50)}\n",
    "model = DecisionTreeClassifier()\n",
    "\n",
    "# creating a KFold object with 5 splits \n",
    "folds = KFold(n_splits = 10, shuffle = True, random_state = 101)\n",
    "\n",
    "# set up GridSearchCV()\n",
    "model_cv = GridSearchCV(estimator = model, \n",
    "                        param_grid = params, \n",
    "                        scoring= 'accuracy', \n",
    "                        cv = folds, \n",
    "                        verbose = 1,\n",
    "                        return_train_score=True)      \n",
    "# fit the model\n",
    "model_cv.fit(X_train, y_train)      "
   ],
   "metadata": {
    "collapsed": false,
    "ExecuteTime": {
     "end_time": "2024-06-06T11:33:29.827442Z",
     "start_time": "2024-06-06T11:32:55.072131Z"
    }
   },
   "id": "324af9cf82cac010",
   "execution_count": 110,
   "outputs": []
  },
  {
   "cell_type": "code",
   "source": [
    "# printing the optimal accuracy score and hyperparameters\n",
    "best_score = model_cv.best_score_\n",
    "best_hyperparams = model_cv.best_params_\n",
    "\n",
    "print(\"The best test score is {0} corresponding to hyperparameters {1}\".format(best_score, best_hyperparams))"
   ],
   "metadata": {
    "collapsed": false,
    "ExecuteTime": {
     "end_time": "2024-06-06T11:33:29.832989Z",
     "start_time": "2024-06-06T11:33:29.828516Z"
    }
   },
   "id": "483e9bb147076a60",
   "execution_count": 111,
   "outputs": []
  },
  {
   "cell_type": "code",
   "source": [
    "from matplotlib import pyplot as plt\n",
    "\n",
    "# cv results\n",
    "cv_results = pd.DataFrame(model_cv.cv_results_)\n",
    "plt.plot(cv_results[\"param_max_depth\"], cv_results[\"mean_test_score\"])\n",
    "plt.plot(cv_results[\"param_max_depth\"], cv_results[\"mean_train_score\"])\n",
    "plt.xlabel('depth')\n",
    "plt.ylabel('Accuracy')\n",
    "plt.legend(['test accuracy', 'train accuracy'], loc='upper left')\n",
    "plt.xscale('log')\n",
    "plt.savefig(\"dt.png\")"
   ],
   "metadata": {
    "collapsed": false,
    "ExecuteTime": {
     "end_time": "2024-06-06T11:38:29.634869Z",
     "start_time": "2024-06-06T11:38:29.462844Z"
    }
   },
   "id": "216d9e13a0e93fd2",
   "execution_count": 117,
   "outputs": []
  },
  {
   "cell_type": "code",
   "source": [
    "from sklearn import metrics\n",
    "# model\n",
    "from sklearn.tree import DecisionTreeClassifier\n",
    "model = DecisionTreeClassifier(max_depth = 27)\n",
    "model.fit(X_train, y_train)\n",
    "y_pred = model.predict(X_test)\n",
    "list.append(metrics.accuracy_score(y_test, y_pred))\n",
    "    \n",
    "# metrics\n",
    "print(\"accuracy\", metrics.accuracy_score(y_test, y_pred), \"\\n\")"
   ],
   "metadata": {
    "collapsed": false,
    "ExecuteTime": {
     "end_time": "2024-06-06T11:35:31.753387Z",
     "start_time": "2024-06-06T11:35:31.665420Z"
    }
   },
   "id": "fa73e5202cc53a4e",
   "execution_count": 114,
   "outputs": []
  },
  {
   "cell_type": "code",
   "source": [],
   "metadata": {
    "collapsed": false
   },
   "id": "528d6f15e4a0fc1e",
   "execution_count": null,
   "outputs": []
  }
 ],
 "metadata": {
  "kernelspec": {
   "display_name": "Python 3",
   "language": "python",
   "name": "python3"
  },
  "language_info": {
   "codemirror_mode": {
    "name": "ipython",
    "version": 2
   },
   "file_extension": ".py",
   "mimetype": "text/x-python",
   "name": "python",
   "nbconvert_exporter": "python",
   "pygments_lexer": "ipython2",
   "version": "2.7.6"
  }
 },
 "nbformat": 4,
 "nbformat_minor": 5
}
