{
 "cells": [
  {
   "cell_type": "markdown",
   "source": [
    "# KNN"
   ],
   "metadata": {
    "collapsed": false
   },
   "id": "327f85c69584d958"
  },
  {
   "cell_type": "code",
   "outputs": [],
   "source": [
    "# libraries\n",
    "import pandas as pd\n",
    "import numpy as np\n",
    "from sklearn.model_selection import train_test_split\n",
    "from sklearn.model_selection import KFold\n",
    "from sklearn.model_selection import cross_val_score\n",
    "from sklearn.model_selection import GridSearchCV\n",
    "from sklearn.preprocessing import scale\n",
    "from sklearn import neighbors\n",
    "import matplotlib.pyplot as plt\n",
    "names = ['letter','x-box','y-box','width','high','onpix','x-bar','y-bar','x2bar',\n",
    "         'y2bar','xybar','x2ybr','xy2br','x-ege','xegvy','y-ege','yegvx']\n",
    "\n",
    "# dataset\n",
    "dataset = pd.read_csv(\"letter-recognition.data\",names = names)"
   ],
   "metadata": {
    "collapsed": false,
    "ExecuteTime": {
     "end_time": "2024-06-06T10:06:28.706443Z",
     "start_time": "2024-06-06T10:06:28.689187Z"
    }
   },
   "id": "77b18e1ec5dc7e1b",
   "execution_count": 34
  },
  {
   "cell_type": "code",
   "outputs": [],
   "source": [
    "# splitting into X and y\n",
    "X = dataset.drop(\"letter\", axis = 1)\n",
    "y = dataset['letter']"
   ],
   "metadata": {
    "collapsed": false,
    "ExecuteTime": {
     "end_time": "2024-06-06T10:06:28.878211Z",
     "start_time": "2024-06-06T10:06:28.872322Z"
    }
   },
   "id": "4134320689e58897",
   "execution_count": 35
  },
  {
   "cell_type": "code",
   "outputs": [],
   "source": [
    "# scaling the features\n",
    "X_scaled = scale(X)\n",
    "\n",
    "# train test split\n",
    "X_train, X_test, y_train, y_test = train_test_split(X_scaled, y, test_size = 0.2, random_state = 101)"
   ],
   "metadata": {
    "collapsed": false,
    "ExecuteTime": {
     "end_time": "2024-06-06T10:06:29.048503Z",
     "start_time": "2024-06-06T10:06:29.030151Z"
    }
   },
   "id": "d6184a684c862ae5",
   "execution_count": 36
  },
  {
   "cell_type": "code",
   "outputs": [],
   "source": [
    "from sklearn.metrics import accuracy_score, classification_report\n",
    "\n",
    "def evaluate(model):\n",
    "    model.fit(X_train, y_train)\n",
    "    x_train_prediction = model.predict(X_train)\n",
    "    x_test_prediction = model.predict(X_test)\n",
    "    train_accuracy = accuracy_score(y_train, x_train_prediction)\n",
    "    test_accuracy = accuracy_score(y_test, x_test_prediction)\n",
    "    clf_report = classification_report(y_test, x_test_prediction)\n",
    "    print(f'Train set accuracy: {train_accuracy:.2f}')\n",
    "    print(f'Test set accuracy: {test_accuracy:.2f}' + '\\n')\n",
    "    print(clf_report + '\\n')"
   ],
   "metadata": {
    "collapsed": false,
    "ExecuteTime": {
     "end_time": "2024-06-06T10:06:29.202983Z",
     "start_time": "2024-06-06T10:06:29.199225Z"
    }
   },
   "id": "a0bdaa06f0d784c5",
   "execution_count": 37
  },
  {
   "cell_type": "code",
   "outputs": [
    {
     "name": "stdout",
     "output_type": "stream",
     "text": [
      "Train set accuracy: 0.97\n",
      "Test set accuracy: 0.94\n",
      "\n",
      "              precision    recall  f1-score   support\n",
      "\n",
      "           A       0.96      1.00      0.98       136\n",
      "           B       0.84      0.96      0.89       143\n",
      "           C       0.98      0.96      0.97       159\n",
      "           D       0.87      0.97      0.92       159\n",
      "           E       0.87      0.95      0.91       150\n",
      "           F       0.90      0.94      0.92       142\n",
      "           G       0.94      0.92      0.93       148\n",
      "           H       0.86      0.81      0.83       154\n",
      "           I       0.95      0.96      0.96       141\n",
      "           J       0.96      0.93      0.95       149\n",
      "           K       0.89      0.87      0.88       178\n",
      "           L       0.99      0.97      0.98       168\n",
      "           M       0.97      0.96      0.96       157\n",
      "           N       0.95      0.94      0.95       151\n",
      "           O       0.94      0.94      0.94       138\n",
      "           P       0.96      0.90      0.93       178\n",
      "           Q       0.95      0.94      0.94       150\n",
      "           R       0.90      0.88      0.89       155\n",
      "           S       1.00      0.96      0.98       147\n",
      "           T       0.98      0.96      0.97       170\n",
      "           U       0.95      0.96      0.95       149\n",
      "           V       0.95      0.93      0.94       147\n",
      "           W       0.97      0.97      0.97       158\n",
      "           X       0.96      0.96      0.96       170\n",
      "           Y       0.96      0.93      0.94       160\n",
      "           Z       0.98      0.95      0.96       143\n",
      "\n",
      "    accuracy                           0.94      4000\n",
      "   macro avg       0.94      0.94      0.94      4000\n",
      "weighted avg       0.94      0.94      0.94      4000\n",
      "\n"
     ]
    }
   ],
   "source": [
    "from sklearn.neighbors import KNeighborsClassifier\n",
    "\n",
    "model = KNeighborsClassifier()\n",
    "evaluate(model)"
   ],
   "metadata": {
    "collapsed": false,
    "ExecuteTime": {
     "end_time": "2024-06-06T10:07:51.649793Z",
     "start_time": "2024-06-06T10:07:51.348831Z"
    }
   },
   "id": "516d35a9041a19b4",
   "execution_count": 46
  },
  {
   "cell_type": "code",
   "outputs": [
    {
     "name": "stdout",
     "output_type": "stream",
     "text": [
      "Fitting 5 folds for each of 9 candidates, totalling 45 fits\n",
      "[CV] END ......................................n_neighbors=1; total time=   0.0s\n",
      "[CV] END ......................................n_neighbors=1; total time=   0.0s\n",
      "[CV] END ......................................n_neighbors=1; total time=   0.0s\n",
      "[CV] END ......................................n_neighbors=1; total time=   0.0s\n",
      "[CV] END ......................................n_neighbors=1; total time=   0.0s\n",
      "[CV] END ......................................n_neighbors=2; total time=   0.0s\n",
      "[CV] END ......................................n_neighbors=2; total time=   0.0s\n",
      "[CV] END ......................................n_neighbors=2; total time=   0.0s\n",
      "[CV] END ......................................n_neighbors=2; total time=   0.0s\n",
      "[CV] END ......................................n_neighbors=2; total time=   0.0s\n",
      "[CV] END ......................................n_neighbors=3; total time=   0.0s\n",
      "[CV] END ......................................n_neighbors=3; total time=   0.0s\n",
      "[CV] END ......................................n_neighbors=3; total time=   0.0s\n",
      "[CV] END ......................................n_neighbors=3; total time=   0.0s\n",
      "[CV] END ......................................n_neighbors=3; total time=   0.0s\n",
      "[CV] END ......................................n_neighbors=4; total time=   0.0s\n",
      "[CV] END ......................................n_neighbors=4; total time=   0.0s\n",
      "[CV] END ......................................n_neighbors=4; total time=   0.0s\n",
      "[CV] END ......................................n_neighbors=4; total time=   0.0s\n",
      "[CV] END ......................................n_neighbors=4; total time=   0.0s\n",
      "[CV] END ......................................n_neighbors=5; total time=   0.0s\n",
      "[CV] END ......................................n_neighbors=5; total time=   0.0s\n",
      "[CV] END ......................................n_neighbors=5; total time=   0.0s\n",
      "[CV] END ......................................n_neighbors=5; total time=   0.0s\n",
      "[CV] END ......................................n_neighbors=5; total time=   0.0s\n",
      "[CV] END ......................................n_neighbors=6; total time=   0.0s\n",
      "[CV] END ......................................n_neighbors=6; total time=   0.0s\n",
      "[CV] END ......................................n_neighbors=6; total time=   0.0s\n",
      "[CV] END ......................................n_neighbors=6; total time=   0.0s\n",
      "[CV] END ......................................n_neighbors=6; total time=   0.0s\n",
      "[CV] END ......................................n_neighbors=7; total time=   0.0s\n",
      "[CV] END ......................................n_neighbors=7; total time=   0.0s\n",
      "[CV] END ......................................n_neighbors=7; total time=   0.0s\n",
      "[CV] END ......................................n_neighbors=7; total time=   0.0s\n",
      "[CV] END ......................................n_neighbors=7; total time=   0.0s\n",
      "[CV] END ......................................n_neighbors=8; total time=   0.0s\n",
      "[CV] END ......................................n_neighbors=8; total time=   0.0s\n",
      "[CV] END ......................................n_neighbors=8; total time=   0.0s\n",
      "[CV] END ......................................n_neighbors=8; total time=   0.0s\n",
      "[CV] END ......................................n_neighbors=8; total time=   0.0s\n",
      "[CV] END ......................................n_neighbors=9; total time=   0.0s\n",
      "[CV] END ......................................n_neighbors=9; total time=   0.0s\n",
      "[CV] END ......................................n_neighbors=9; total time=   0.0s\n",
      "[CV] END ......................................n_neighbors=9; total time=   0.0s\n",
      "[CV] END ......................................n_neighbors=9; total time=   0.0s\n"
     ]
    }
   ],
   "source": [
    "k_range = list(range(1, 10))\n",
    "param_grid = dict(n_neighbors=k_range)\n",
    "  \n",
    "grid = GridSearchCV(model, param_grid, cv=5, scoring='accuracy', return_train_score=False, verbose=2)\n",
    "  \n",
    "grid_search=grid.fit(X_train, y_train)"
   ],
   "metadata": {
    "collapsed": false,
    "ExecuteTime": {
     "end_time": "2024-06-06T10:06:31.726202Z",
     "start_time": "2024-06-06T10:06:29.641314Z"
    }
   },
   "id": "3fb3c0535fc2c965",
   "execution_count": 39
  },
  {
   "cell_type": "code",
   "outputs": [
    {
     "data": {
      "text/plain": "   mean_fit_time  std_fit_time  mean_score_time  std_score_time  \\\n0       0.009358      0.002166         0.034151        0.001323   \n1       0.010522      0.000397         0.034984        0.001055   \n2       0.008723      0.001325         0.034687        0.001153   \n3       0.008294      0.001346         0.034883        0.001076   \n4       0.008328      0.001341         0.035229        0.001114   \n5       0.009282      0.001451         0.035043        0.001339   \n6       0.009754      0.002130         0.037094        0.000991   \n7       0.008924      0.001970         0.038101        0.001159   \n8       0.009411      0.001914         0.039118        0.001742   \n\n  param_n_neighbors              params  split0_test_score  split1_test_score  \\\n0                 1  {'n_neighbors': 1}           0.938750           0.949375   \n1                 2  {'n_neighbors': 2}           0.917500           0.932813   \n2                 3  {'n_neighbors': 3}           0.933438           0.937813   \n3                 4  {'n_neighbors': 4}           0.932500           0.937187   \n4                 5  {'n_neighbors': 5}           0.931875           0.934688   \n5                 6  {'n_neighbors': 6}           0.927500           0.927813   \n6                 7  {'n_neighbors': 7}           0.930000           0.928438   \n7                 8  {'n_neighbors': 8}           0.933125           0.923750   \n8                 9  {'n_neighbors': 9}           0.930000           0.922813   \n\n   split2_test_score  split3_test_score  split4_test_score  mean_test_score  \\\n0           0.946562           0.946875           0.950000         0.946313   \n1           0.929688           0.930312           0.931875         0.928438   \n2           0.940000           0.940937           0.945937         0.939625   \n3           0.941875           0.936875           0.938438         0.937375   \n4           0.942500           0.940312           0.941250         0.938125   \n5           0.940312           0.935937           0.943125         0.934937   \n6           0.942187           0.937187           0.939063         0.935375   \n7           0.937813           0.935937           0.937813         0.933688   \n8           0.932500           0.935937           0.937813         0.931813   \n\n   std_test_score  rank_test_score  \n0        0.004014                1  \n1        0.005580                9  \n2        0.004081                2  \n3        0.003014                4  \n4        0.004113                3  \n5        0.006372                6  \n6        0.005297                5  \n7        0.005257                7  \n8        0.005249                8  ",
      "text/html": "<div>\n<style scoped>\n    .dataframe tbody tr th:only-of-type {\n        vertical-align: middle;\n    }\n\n    .dataframe tbody tr th {\n        vertical-align: top;\n    }\n\n    .dataframe thead th {\n        text-align: right;\n    }\n</style>\n<table border=\"1\" class=\"dataframe\">\n  <thead>\n    <tr style=\"text-align: right;\">\n      <th></th>\n      <th>mean_fit_time</th>\n      <th>std_fit_time</th>\n      <th>mean_score_time</th>\n      <th>std_score_time</th>\n      <th>param_n_neighbors</th>\n      <th>params</th>\n      <th>split0_test_score</th>\n      <th>split1_test_score</th>\n      <th>split2_test_score</th>\n      <th>split3_test_score</th>\n      <th>split4_test_score</th>\n      <th>mean_test_score</th>\n      <th>std_test_score</th>\n      <th>rank_test_score</th>\n    </tr>\n  </thead>\n  <tbody>\n    <tr>\n      <th>0</th>\n      <td>0.009358</td>\n      <td>0.002166</td>\n      <td>0.034151</td>\n      <td>0.001323</td>\n      <td>1</td>\n      <td>{'n_neighbors': 1}</td>\n      <td>0.938750</td>\n      <td>0.949375</td>\n      <td>0.946562</td>\n      <td>0.946875</td>\n      <td>0.950000</td>\n      <td>0.946313</td>\n      <td>0.004014</td>\n      <td>1</td>\n    </tr>\n    <tr>\n      <th>1</th>\n      <td>0.010522</td>\n      <td>0.000397</td>\n      <td>0.034984</td>\n      <td>0.001055</td>\n      <td>2</td>\n      <td>{'n_neighbors': 2}</td>\n      <td>0.917500</td>\n      <td>0.932813</td>\n      <td>0.929688</td>\n      <td>0.930312</td>\n      <td>0.931875</td>\n      <td>0.928438</td>\n      <td>0.005580</td>\n      <td>9</td>\n    </tr>\n    <tr>\n      <th>2</th>\n      <td>0.008723</td>\n      <td>0.001325</td>\n      <td>0.034687</td>\n      <td>0.001153</td>\n      <td>3</td>\n      <td>{'n_neighbors': 3}</td>\n      <td>0.933438</td>\n      <td>0.937813</td>\n      <td>0.940000</td>\n      <td>0.940937</td>\n      <td>0.945937</td>\n      <td>0.939625</td>\n      <td>0.004081</td>\n      <td>2</td>\n    </tr>\n    <tr>\n      <th>3</th>\n      <td>0.008294</td>\n      <td>0.001346</td>\n      <td>0.034883</td>\n      <td>0.001076</td>\n      <td>4</td>\n      <td>{'n_neighbors': 4}</td>\n      <td>0.932500</td>\n      <td>0.937187</td>\n      <td>0.941875</td>\n      <td>0.936875</td>\n      <td>0.938438</td>\n      <td>0.937375</td>\n      <td>0.003014</td>\n      <td>4</td>\n    </tr>\n    <tr>\n      <th>4</th>\n      <td>0.008328</td>\n      <td>0.001341</td>\n      <td>0.035229</td>\n      <td>0.001114</td>\n      <td>5</td>\n      <td>{'n_neighbors': 5}</td>\n      <td>0.931875</td>\n      <td>0.934688</td>\n      <td>0.942500</td>\n      <td>0.940312</td>\n      <td>0.941250</td>\n      <td>0.938125</td>\n      <td>0.004113</td>\n      <td>3</td>\n    </tr>\n    <tr>\n      <th>5</th>\n      <td>0.009282</td>\n      <td>0.001451</td>\n      <td>0.035043</td>\n      <td>0.001339</td>\n      <td>6</td>\n      <td>{'n_neighbors': 6}</td>\n      <td>0.927500</td>\n      <td>0.927813</td>\n      <td>0.940312</td>\n      <td>0.935937</td>\n      <td>0.943125</td>\n      <td>0.934937</td>\n      <td>0.006372</td>\n      <td>6</td>\n    </tr>\n    <tr>\n      <th>6</th>\n      <td>0.009754</td>\n      <td>0.002130</td>\n      <td>0.037094</td>\n      <td>0.000991</td>\n      <td>7</td>\n      <td>{'n_neighbors': 7}</td>\n      <td>0.930000</td>\n      <td>0.928438</td>\n      <td>0.942187</td>\n      <td>0.937187</td>\n      <td>0.939063</td>\n      <td>0.935375</td>\n      <td>0.005297</td>\n      <td>5</td>\n    </tr>\n    <tr>\n      <th>7</th>\n      <td>0.008924</td>\n      <td>0.001970</td>\n      <td>0.038101</td>\n      <td>0.001159</td>\n      <td>8</td>\n      <td>{'n_neighbors': 8}</td>\n      <td>0.933125</td>\n      <td>0.923750</td>\n      <td>0.937813</td>\n      <td>0.935937</td>\n      <td>0.937813</td>\n      <td>0.933688</td>\n      <td>0.005257</td>\n      <td>7</td>\n    </tr>\n    <tr>\n      <th>8</th>\n      <td>0.009411</td>\n      <td>0.001914</td>\n      <td>0.039118</td>\n      <td>0.001742</td>\n      <td>9</td>\n      <td>{'n_neighbors': 9}</td>\n      <td>0.930000</td>\n      <td>0.922813</td>\n      <td>0.932500</td>\n      <td>0.935937</td>\n      <td>0.937813</td>\n      <td>0.931813</td>\n      <td>0.005249</td>\n      <td>8</td>\n    </tr>\n  </tbody>\n</table>\n</div>"
     },
     "execution_count": 40,
     "metadata": {},
     "output_type": "execute_result"
    }
   ],
   "source": [
    "# cv results\n",
    "cv_results = pd.DataFrame(grid.cv_results_)\n",
    "cv_results"
   ],
   "metadata": {
    "collapsed": false,
    "ExecuteTime": {
     "end_time": "2024-06-06T10:06:31.741004Z",
     "start_time": "2024-06-06T10:06:31.727273Z"
    }
   },
   "id": "78928db77ce16b84",
   "execution_count": 40
  },
  {
   "cell_type": "code",
   "outputs": [
    {
     "name": "stdout",
     "output_type": "stream",
     "text": [
      "{'n_neighbors': 1}\n"
     ]
    }
   ],
   "source": [
    "print(grid_search.best_params_)"
   ],
   "metadata": {
    "collapsed": false,
    "ExecuteTime": {
     "end_time": "2024-06-06T10:06:31.749379Z",
     "start_time": "2024-06-06T10:06:31.741606Z"
    }
   },
   "id": "242c3359840d32d6",
   "execution_count": 41
  },
  {
   "cell_type": "code",
   "outputs": [
    {
     "name": "stdout",
     "output_type": "stream",
     "text": [
      "Train set accuracy: 1.00\n",
      "Test set accuracy: 0.95\n",
      "\n",
      "              precision    recall  f1-score   support\n",
      "\n",
      "           A       0.96      1.00      0.98       136\n",
      "           B       0.89      0.94      0.92       143\n",
      "           C       0.99      0.98      0.98       159\n",
      "           D       0.90      0.97      0.93       159\n",
      "           E       0.91      0.92      0.92       150\n",
      "           F       0.93      0.94      0.93       142\n",
      "           G       0.96      0.93      0.94       148\n",
      "           H       0.91      0.82      0.86       154\n",
      "           I       0.94      0.96      0.95       141\n",
      "           J       0.95      0.95      0.95       149\n",
      "           K       0.87      0.89      0.88       178\n",
      "           L       0.99      0.98      0.98       168\n",
      "           M       0.99      0.96      0.98       157\n",
      "           N       0.97      0.96      0.96       151\n",
      "           O       0.94      0.96      0.95       138\n",
      "           P       0.95      0.92      0.93       178\n",
      "           Q       0.97      0.95      0.96       150\n",
      "           R       0.89      0.91      0.90       155\n",
      "           S       0.99      0.99      0.99       147\n",
      "           T       0.98      0.99      0.98       170\n",
      "           U       0.98      0.99      0.99       149\n",
      "           V       0.96      0.96      0.96       147\n",
      "           W       0.96      0.99      0.97       158\n",
      "           X       0.95      0.95      0.95       170\n",
      "           Y       0.97      0.94      0.96       160\n",
      "           Z       0.99      0.97      0.98       143\n",
      "\n",
      "    accuracy                           0.95      4000\n",
      "   macro avg       0.95      0.95      0.95      4000\n",
      "weighted avg       0.95      0.95      0.95      4000\n"
     ]
    }
   ],
   "source": [
    "model = KNeighborsClassifier(**grid_search.best_params_)\n",
    "evaluate(model)"
   ],
   "metadata": {
    "collapsed": false,
    "ExecuteTime": {
     "end_time": "2024-06-06T10:06:32.062827Z",
     "start_time": "2024-06-06T10:06:31.750534Z"
    }
   },
   "id": "2bc1f1c985256280",
   "execution_count": 42
  },
  {
   "cell_type": "code",
   "outputs": [
    {
     "name": "stdout",
     "output_type": "stream",
     "text": [
      "[0.94925 0.9345  0.9405  0.9365  0.93775 0.93475 0.9355  0.9315  0.931  ]\n"
     ]
    },
    {
     "data": {
      "text/plain": "<Figure size 640x480 with 1 Axes>",
      "image/png": "[encoded data removed]"
     },
     "metadata": {},
     "output_type": "display_data"
    }
   ],
   "source": [
    "no_neighbors = np.arange(1, 10, 1)\n",
    "train_accuracy = np.empty(len(no_neighbors))\n",
    "test_accuracy = np.empty(len(no_neighbors))\n",
    "\n",
    "for i, k in enumerate(no_neighbors):\n",
    "    model = KNeighborsClassifier(n_neighbors=k)\n",
    "    model.fit(X_train,y_train)\n",
    "    train_accuracy[i] = model.score(X_train, y_train)\n",
    "    test_accuracy[i] = model.score(X_test, y_test)\n",
    "print(test_accuracy)\n",
    "plt.title('k-nearest neighbors accuracy')\n",
    "plt.plot(no_neighbors, test_accuracy, label='test')\n",
    "plt.plot(no_neighbors, train_accuracy, label='train')\n",
    "plt.legend()\n",
    "plt.xlabel('number of neighbors')\n",
    "plt.ylabel('accuracy')\n",
    "plt.savefig(\"knn.png\")\n",
    "plt.show()"
   ],
   "metadata": {
    "collapsed": false,
    "ExecuteTime": {
     "end_time": "2024-06-06T10:14:01.642846Z",
     "start_time": "2024-06-06T10:13:59.406500Z"
    }
   },
   "id": "917c9fa8c7ac0b8c",
   "execution_count": 49
  }
 ],
 "metadata": {
  "kernelspec": {
   "display_name": "Python 3",
   "language": "python",
   "name": "python3"
  },
  "language_info": {
   "codemirror_mode": {
    "name": "ipython",
    "version": 2
   },
   "file_extension": ".py",
   "mimetype": "text/x-python",
   "name": "python",
   "nbconvert_exporter": "python",
   "pygments_lexer": "ipython2",
   "version": "2.7.6"
  }
 },
 "nbformat": 4,
 "nbformat_minor": 5
}
