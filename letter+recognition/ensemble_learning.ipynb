{
 "cells": [
  {
   "cell_type": "code",
   "execution_count": 22,
   "id": "initial_id",
   "metadata": {
    "collapsed": true,
    "ExecuteTime": {
     "end_time": "2024-06-06T12:23:35.035838Z",
     "start_time": "2024-06-06T12:23:34.997595Z"
    }
   },
   "source": [
    "import pandas as pd\n",
    "import numpy as np\n",
    "from sklearn.svm import SVC\n",
    "from sklearn.model_selection import train_test_split\n",
    "from sklearn import metrics\n",
    "from sklearn.metrics import confusion_matrix\n",
    "from sklearn.model_selection import KFold\n",
    "from sklearn.model_selection import cross_val_score\n",
    "from sklearn.model_selection import GridSearchCV\n",
    "import matplotlib.pyplot as plt\n",
    "import seaborn as sns\n",
    "from sklearn.preprocessing import scale\n",
    "names = ['letter','x-box','y-box','width','high','onpix','x-bar','y-bar','x2bar',\n",
    "         'y2bar','xybar','x2ybr','xy2br','x-ege','xegvy','y-ege','yegvx']\n",
    "dataset = pd.read_csv(\"letter-recognition.data\",names = names)\n",
    "X = dataset.drop(\"letter\", axis = 1)\n",
    "y = dataset['letter']\n",
    "X_scaled = scale(X)\n",
    "X_train, X_test, y_train, y_test = train_test_split(X_scaled, y, test_size = 0.2, random_state = 101)"
   ],
   "outputs": []
  },
  {
   "cell_type": "code",
   "source": [
    "from sklearn.metrics import accuracy_score\n",
    "from sklearn.neighbors import KNeighborsClassifier\n",
    "from sklearn.tree import DecisionTreeClassifier\n",
    "\n",
    "# 定义三个分类器\n",
    "svm_clf = SVC(C=1000, gamma=0.01, kernel=\"rbf\",probability=True)\n",
    "dt_clf = DecisionTreeClassifier(max_depth = 27)\n",
    "knn_clf = model = KNeighborsClassifier(n_neighbors=1)\n",
    "\n",
    "# 训练三个分类器\n",
    "svm_clf.fit(X_train, y_train)\n",
    "dt_clf.fit(X_train, y_train)\n",
    "knn_clf.fit(X_train, y_train)\n",
    "\n",
    "# 对测试集进行预测\n",
    "svm_pred = svm_clf.predict(X_test)\n",
    "dt_pred = dt_clf.predict(X_test)\n",
    "knn_pred = knn_clf.predict(X_test)\n",
    "\n",
    "# 对测试集进行预测\n",
    "svm_prob = svm_clf.predict_proba(X_test)\n",
    "dt_prob = dt_clf.predict_proba(X_test)\n",
    "knn_prob = knn_clf.predict_proba(X_test)\n",
    "\n",
    "# 集成预测\n",
    "final_pred = []\n",
    "for i in range(len(X_test)):\n",
    "    preds = [svm_pred[i], dt_pred[i], knn_pred[i]]\n",
    "    # 如果三个预测相同，则使用该预测值\n",
    "    if preds[0] == preds[1] or preds[0] == preds[2]:\n",
    "        final_pred.append(preds[0])\n",
    "    elif preds[1] == preds[2]:\n",
    "        final_pred.append(preds[1])\n",
    "    else:\n",
    "        # 加权方式，可以改为不同的加权策略\n",
    "        # 为每个分类器分配权重\n",
    "        weights = [0.7, 0.3,0]\n",
    "        final_prob = (weights[0] * svm_prob[i] + weights[1] * dt_prob[i] + weights[2] * knn_prob[i])\n",
    "        # 选择加权平均概率最高的类作为最终预测结果\n",
    "        final_pred.append(np.argmax(final_prob, axis=0))\n",
    "\n",
    "# 计算准确性\n",
    "accuracy = accuracy_score(y_test, final_pred)\n",
    "print(f'Ensemble model accuracy: {accuracy:.5f}')"
   ],
   "metadata": {
    "collapsed": false,
    "ExecuteTime": {
     "end_time": "2024-06-06T13:11:15.786435Z",
     "start_time": "2024-06-06T13:11:03.434949Z"
    }
   },
   "id": "962202dab94ed70e",
   "execution_count": 41,
   "outputs": []
  },
  {
   "cell_type": "code",
   "source": [
    "from sklearn.model_selection import GridSearchCV\n",
    "\n",
    "# 定义参数网格\n",
    "param_grid = {\n",
    "    'svm__C': [1000],\n",
    "    'svm__kernel': ['rbf'],\n",
    "    'dt__max_depth': [10, 20, 30],\n",
    "    'knn__n_neighbors': [1,3, 5, 7]\n",
    "}\n",
    "\n",
    "# 创建集成模型的Pipeline\n",
    "from sklearn.pipeline import Pipeline\n",
    "from sklearn.ensemble import VotingClassifier\n",
    "\n",
    "# 定义基分类器\n",
    "svm_clf = SVC(probability=True)\n",
    "dt_clf = DecisionTreeClassifier()\n",
    "knn_clf = KNeighborsClassifier()\n",
    "\n",
    "# 创建VotingClassifier\n",
    "voting_clf = VotingClassifier(estimators=[\n",
    "    ('svm', svm_clf),\n",
    "    ('dt', dt_clf),\n",
    "    ('knn', knn_clf)\n",
    "], voting='soft')\n",
    "\n",
    "# 使用网格搜索\n",
    "grid_search = GridSearchCV(voting_clf, param_grid)\n",
    "grid_search.fit(X_train, y_train)\n",
    "y_pred = grid_search.predict(X_test)\n"
   ],
   "metadata": {
    "collapsed": false,
    "ExecuteTime": {
     "end_time": "2024-06-06T13:22:54.600901Z",
     "start_time": "2024-06-06T13:13:49.339100Z"
    }
   },
   "id": "7af23d643dcd6d35",
   "execution_count": 42,
   "outputs": []
  },
  {
   "cell_type": "code",
   "source": [
    "# 计算准确性\n",
    "accuracy = accuracy_score(y_test, y_pred)\n",
    "print(f'Ensemble model accuracy: {accuracy:.5f}')"
   ],
   "metadata": {
    "collapsed": false,
    "ExecuteTime": {
     "end_time": "2024-06-06T13:22:54.608783Z",
     "start_time": "2024-06-06T13:22:54.601404Z"
    }
   },
   "id": "131d74012584575f",
   "execution_count": 43,
   "outputs": []
  },
  {
   "cell_type": "code",
   "source": [
    "# cv results\n",
    "cv_results = pd.DataFrame(grid_search.cv_results_)\n",
    "cv_results"
   ],
   "metadata": {
    "collapsed": false,
    "ExecuteTime": {
     "end_time": "2024-06-06T13:26:01.462024Z",
     "start_time": "2024-06-06T13:26:01.446024Z"
    }
   },
   "id": "c98e16730945f32f",
   "execution_count": 45,
   "outputs": []
  },
  {
   "cell_type": "code",
   "source": [
    "\n",
    "# 打印最佳参数和最佳交叉验证得分\n",
    "print(\"Best Parameters:\", grid_search.best_params_)\n",
    "print(\"Best Cross-Validation Score:\", grid_search.best_score_)\n",
    "\n",
    "# 打印测试集准确率\n",
    "test_accuracy = accuracy_score(y_test, y_pred)\n",
    "print(\"Test Set Accuracy:\", test_accuracy)"
   ],
   "metadata": {
    "collapsed": false,
    "ExecuteTime": {
     "end_time": "2024-06-06T13:36:57.083981Z",
     "start_time": "2024-06-06T13:36:57.078267Z"
    }
   },
   "id": "7484571dfa1d4f7b",
   "execution_count": 46,
   "outputs": []
  },
  {
   "cell_type": "code",
   "source": [],
   "metadata": {
    "collapsed": false
   },
   "id": "2bcb0d9eb09ace98",
   "execution_count": null,
   "outputs": []
  }
 ],
 "metadata": {
  "kernelspec": {
   "display_name": "Python 3",
   "language": "python",
   "name": "python3"
  },
  "language_info": {
   "codemirror_mode": {
    "name": "ipython",
    "version": 2
   },
   "file_extension": ".py",
   "mimetype": "text/x-python",
   "name": "python",
   "nbconvert_exporter": "python",
   "pygments_lexer": "ipython2",
   "version": "2.7.6"
  }
 },
 "nbformat": 4,
 "nbformat_minor": 5
}
